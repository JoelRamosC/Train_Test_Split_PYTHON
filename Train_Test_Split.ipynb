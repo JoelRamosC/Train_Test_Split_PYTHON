{
  "nbformat": 4,
  "nbformat_minor": 0,
  "metadata": {
    "colab": {
      "name": "Train_Test_Split.ipynb",
      "provenance": [],
      "toc_visible": true,
      "authorship_tag": "ABX9TyOehou6Ju2wYy86+fcPngGE",
      "include_colab_link": true
    },
    "kernelspec": {
      "name": "python3",
      "display_name": "Python 3"
    },
    "language_info": {
      "name": "python"
    }
  },
  "cells": [
    {
      "cell_type": "markdown",
      "metadata": {
        "id": "view-in-github",
        "colab_type": "text"
      },
      "source": [
        "<a href=\"https://colab.research.google.com/github/JoelRamosC/Train_Test_Split_PYTHON/blob/main/Train_Test_Split.ipynb\" target=\"_parent\"><img src=\"https://colab.research.google.com/assets/colab-badge.svg\" alt=\"Open In Colab\"/></a>"
      ]
    },
    {
      "cell_type": "markdown",
      "source": [
        "#Train Test Split"
      ],
      "metadata": {
        "id": "S8sPueMNB2LR"
      }
    },
    {
      "cell_type": "code",
      "source": [
        "import numpy\n",
        "import matplotlib.pyplot as plt\n",
        "\n",
        "numpy.random.seed(1)\n",
        "x = numpy.random.normal(3, 1, 500)\n",
        "y = numpy.random.normal(50, 20, 500) / x\n",
        "\n",
        "plt.scatter(x, y)\n",
        "plt.show()\n",
        "\n"
      ],
      "metadata": {
        "id": "95Nn-4VhB4jy"
      },
      "execution_count": null,
      "outputs": []
    },
    {
      "cell_type": "code",
      "source": [
        "train_x = x[:400]\n",
        "train_y = y[:400]\n",
        "\n",
        "test_x = x[400:]\n",
        "test_y = y[400:]\n",
        "\n",
        "plt.scatter(train_x, train_y)\n",
        "plt.show()\n",
        "\n",
        "plt.scatter(test_x, test_y)\n",
        "plt.show()\n",
        "\n"
      ],
      "metadata": {
        "id": "EON8oPy4B6Pk"
      },
      "execution_count": null,
      "outputs": []
    },
    {
      "cell_type": "code",
      "source": [
        "#Draw a polynomial regression line through the data points:\n",
        "mymodel = numpy.poly1d(numpy.polyfit(train_x, train_y, 4))\n",
        "\n",
        "myline = numpy.linspace(0, 6, 100)\n",
        "\n",
        "plt.scatter(train_x, train_y)\n",
        "plt.plot(myline, mymodel(myline))\n",
        "plt.show()\n",
        "\n",
        "\n",
        "# The result can back my suggestion of the data set fitting a polynomial regression, even though it would give us some weird results if we try to predict values outside of the data set. Example: the line indicates that a customer spending 6 minutes in the shop would make a purchase worth 200. That is probably a sign of overfitting.\n",
        "\n",
        "# But what about the R-squared score? The R-squared score is a good indicator of how well my data set is fitting the model.\n",
        "\n",
        "#How well does my training data fit in a polynomial regression? r2=0 pouca correlação e r2=1 muita correlação\n",
        "from sklearn.metrics import r2_score\n",
        "\n",
        "# Testando conjunto de treino \n",
        "r2 = r2_score(train_y, mymodel(train_x))\n",
        "print(r2)\n",
        "# Testando conjunto de treino \n",
        "r2 = r2_score(test_y, mymodel(test_x))\n",
        "print(r2)\n",
        "\n",
        "#Predict Values - How much money will a buying customer spend, if she or he stays in the shop for 5 minutes?\n",
        "\n",
        "print(mymodel(1))\n"
      ],
      "metadata": {
        "id": "nxPPAXXiCBMI"
      },
      "execution_count": null,
      "outputs": []
    }
  ]
}